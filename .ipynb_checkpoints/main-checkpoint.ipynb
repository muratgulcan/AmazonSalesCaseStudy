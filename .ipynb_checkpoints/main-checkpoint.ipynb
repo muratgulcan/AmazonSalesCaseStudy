{
 "cells": [
  {
   "cell_type": "code",
   "execution_count": null,
   "id": "d08c08a7-28c2-4437-b3f8-c1cfd789e080",
   "metadata": {},
   "outputs": [],
   "source": [
    "print(2)"
   ]
  }
 ],
 "metadata": {
  "kernelspec": {
   "display_name": "Python 3 (ipykernel)",
   "language": "python",
   "name": "python3"
  },
  "language_info": {
   "codemirror_mode": {
    "name": "ipython",
    "version": 3
   },
   "file_extension": ".py",
   "mimetype": "text/x-python",
   "name": "python",
   "nbconvert_exporter": "python",
   "pygments_lexer": "ipython3",
   "version": "3.8.6"
  }
 },
 "nbformat": 4,
 "nbformat_minor": 5
}
